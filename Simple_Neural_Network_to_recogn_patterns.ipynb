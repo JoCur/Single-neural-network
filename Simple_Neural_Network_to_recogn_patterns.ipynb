{
  "nbformat": 4,
  "nbformat_minor": 0,
  "metadata": {
    "colab": {
      "name": "Simple Neural Network to recogn patterns.ipynb",
      "provenance": [],
      "authorship_tag": "ABX9TyM2YOPYYhlh+fJQQK7GxNxI",
      "include_colab_link": true
    },
    "kernelspec": {
      "name": "python3",
      "display_name": "Python 3"
    },
    "language_info": {
      "name": "python"
    }
  },
  "cells": [
    {
      "cell_type": "markdown",
      "metadata": {
        "id": "view-in-github",
        "colab_type": "text"
      },
      "source": [
        "<a href=\"https://colab.research.google.com/github/JoCur/Single-neural-network/blob/main/Simple_Neural_Network_to_recogn_patterns.ipynb\" target=\"_parent\"><img src=\"https://colab.research.google.com/assets/colab-badge.svg\" alt=\"Open In Colab\"/></a>"
      ]
    },
    {
      "cell_type": "markdown",
      "source": [
        "\n",
        "1) Understanding Class = Object (attributes & methods)"
      ],
      "metadata": {
        "id": "4K6bQZgPqEwl"
      }
    },
    {
      "cell_type": "code",
      "metadata": {
        "id": "8bioNEewsLOX"
      },
      "source": [
        "#Class attribute (belongs to the class)-> We create a class = Snake and assign certain properties, for example, \"name\"\n",
        "\n",
        "class Snake:\n",
        "  name=\"python\""
      ],
      "execution_count": 2,
      "outputs": []
    },
    {
      "cell_type": "code",
      "metadata": {
        "id": "cUFCg_6N4s6J"
      },
      "source": [
        "snake = Snake()\n"
      ],
      "execution_count": 3,
      "outputs": []
    },
    {
      "cell_type": "code",
      "metadata": {
        "colab": {
          "base_uri": "https://localhost:8080/"
        },
        "id": "CYcBFnXF4w58",
        "outputId": "57d123a5-565d-4cb7-abc7-d5a0f1b40e4d"
      },
      "source": [
        "print(snake.name)"
      ],
      "execution_count": 4,
      "outputs": [
        {
          "output_type": "stream",
          "name": "stdout",
          "text": [
            "python\n"
          ]
        }
      ]
    },
    {
      "cell_type": "code",
      "metadata": {
        "id": "jKIrwwsf4ysb"
      },
      "source": [
        "#class method -> actions you can perform with the object. (in this case, changing the name)\n",
        "\n",
        "class Snake:\n",
        "  name = \"python\"\n",
        "\n",
        "  def change_name (self, new_name):\n",
        "    self.name= new_name # access the class attribute with the self keyword\n"
      ],
      "execution_count": 5,
      "outputs": []
    },
    {
      "cell_type": "code",
      "metadata": {
        "colab": {
          "base_uri": "https://localhost:8080/"
        },
        "id": "CjwLczQW7Vj4",
        "outputId": "fc7764d6-3ce7-4f23-acf9-6d5f5c867f7d"
      },
      "source": [
        "snake = Snake()\n",
        "snake.change_name(\"anaconda\")\n",
        "print(snake.name)"
      ],
      "execution_count": 6,
      "outputs": [
        {
          "output_type": "stream",
          "name": "stdout",
          "text": [
            "anaconda\n"
          ]
        }
      ]
    },
    {
      "cell_type": "markdown",
      "metadata": {
        "id": "bXCFW_Ci7nWc"
      },
      "source": [
        "2) Instance attributes in python and the init method\n",
        "\n",
        "You can also provide the values for the attributes at runtime. This is done by defining the attributes inside the init method. The following example illustrates this."
      ]
    },
    {
      "cell_type": "code",
      "metadata": {
        "id": "DLSxu0aD7nz7"
      },
      "source": [
        "class Snake:\n",
        "\n",
        "    def __init__(self, name):\n",
        "        self.name = name\n",
        "\n",
        "    def change_name(self, new_name):\n",
        "        self.name = new_name"
      ],
      "execution_count": 1,
      "outputs": []
    },
    {
      "cell_type": "code",
      "metadata": {
        "colab": {
          "base_uri": "https://localhost:8080/"
        },
        "id": "w7z8nrvk7z1I",
        "outputId": "f670a2f7-2912-4c5f-aed8-d6d78d354aef"
      },
      "source": [
        "python = Snake(\"python\")\n",
        "\n",
        "print(python.name)"
      ],
      "execution_count": null,
      "outputs": [
        {
          "output_type": "stream",
          "name": "stdout",
          "text": [
            "python\n"
          ]
        }
      ]
    },
    {
      "cell_type": "code",
      "source": [
        "python.change_name(\"violet\")\n",
        "python.name"
      ],
      "metadata": {
        "colab": {
          "base_uri": "https://localhost:8080/",
          "height": 34
        },
        "id": "n5uVdnp9kBek",
        "outputId": "5eee210f-f76e-4e61-dd4d-6b4418a80d2e"
      },
      "execution_count": null,
      "outputs": [
        {
          "output_type": "execute_result",
          "data": {
            "application/vnd.google.colaboratory.intrinsic+json": {
              "type": "string"
            },
            "text/plain": [
              "'violet'"
            ]
          },
          "metadata": {},
          "execution_count": 62
        }
      ]
    },
    {
      "cell_type": "markdown",
      "source": [
        "# **Modelling one single neuron**:\n",
        " \n"
      ],
      "metadata": {
        "id": "kCr6w20kqSGC"
      }
    },
    {
      "cell_type": "code",
      "metadata": {
        "id": "TUhEZuLJ8vKq"
      },
      "source": [
        "from numpy import exp, array, random,dot\n"
      ],
      "execution_count": 11,
      "outputs": []
    },
    {
      "cell_type": "markdown",
      "source": [
        "1) We create the neural network using \"class\" and define an attribute called weights, and methods to train the neuron on getting accurate outputs."
      ],
      "metadata": {
        "id": "f2AMAoxSJEGl"
      }
    },
    {
      "cell_type": "code",
      "metadata": {
        "id": "iW_Nu_sa8YxE"
      },
      "source": [
        "class neural_network:\n",
        "   #Assign random values to the attribute \"weights\"\n",
        "  def __init__(self):\n",
        "    random.seed(1)\n",
        "    self.weights = 2*random.random((3,1))-1\n",
        "\n",
        "  # Def sigmoid method to normalize the weighted sum of the inputs. (This function can map any value to a value from 0 to 1)\n",
        "  def __sigmoid (self,x):\n",
        "    return 1/(1+exp(-x))\n",
        "\n",
        "  # Define think method to calculate the sum product of the inputs and the randomly assigned weights.\n",
        "  def think (self, inputs):\n",
        "    result=self.__sigmoid(dot(inputs, self.weights))\n",
        "    return result\n",
        "\n",
        "  # Define the train method to iterate a num of times the calculation of an output = the sum product of the inputs and random weights, \n",
        "  # get the diff between the outputs in the training set (transposed) and the calculated output (error), \n",
        "  # and adjust the weights so that when multiplied by the inputs, the result approximates more to the real-life outputs each time.\n",
        "  def train (self, inputs, outputs, num):\n",
        "    for iteration in range (num):\n",
        "      output = self.think(inputs)\n",
        "      error= outputs.T -output\n",
        "      adjustment = dot (inputs.T, error*output*(1-output))\n",
        "      self.weights += adjustment"
      ],
      "execution_count": 22,
      "outputs": []
    },
    {
      "cell_type": "markdown",
      "source": [
        "2) We create a variable of class \"neural network\""
      ],
      "metadata": {
        "id": "ln_rzF80OmTh"
      }
    },
    {
      "cell_type": "code",
      "source": [
        "network= neural_network()"
      ],
      "metadata": {
        "id": "pvFk_o17nniZ"
      },
      "execution_count": 23,
      "outputs": []
    },
    {
      "cell_type": "code",
      "source": [
        "# Print weights to check the numbers randomly assigned\n",
        "network.weights"
      ],
      "metadata": {
        "colab": {
          "base_uri": "https://localhost:8080/"
        },
        "id": "Khl4CMhTocA1",
        "outputId": "c08ce495-8939-4d80-9054-88cb91af446f"
      },
      "execution_count": 24,
      "outputs": [
        {
          "output_type": "execute_result",
          "data": {
            "text/plain": [
              "array([[-0.16595599],\n",
              "       [ 0.44064899],\n",
              "       [-0.99977125]])"
            ]
          },
          "metadata": {},
          "execution_count": 24
        }
      ]
    },
    {
      "cell_type": "code",
      "source": [
        "# Define the training set (3 inputs and 1 output):\n",
        "inputs= array([[1,1,1], [1,0,1], [0,1,1]])\n",
        "\n",
        "outputs= array ([[1,1,0]])"
      ],
      "metadata": {
        "id": "CZVwkFV3nuav"
      },
      "execution_count": 25,
      "outputs": []
    },
    {
      "cell_type": "code",
      "source": [
        "# By calling the method \"train\", we repeat the iteration 10 times to adjust the weights so they better represent the relationship between the inputs and the outputs.\n",
        "network.train(inputs, outputs, 10)"
      ],
      "metadata": {
        "id": "dKKjbNVcoOBh"
      },
      "execution_count": 26,
      "outputs": []
    },
    {
      "cell_type": "code",
      "source": [
        "# Print weights after training, to verify the adjusted values.\n",
        "network.weights"
      ],
      "metadata": {
        "colab": {
          "base_uri": "https://localhost:8080/"
        },
        "id": "ZnpHpRC-q9Yz",
        "outputId": "7a3cd39b-5736-4d84-9717-5d76a9200b2a"
      },
      "execution_count": 27,
      "outputs": [
        {
          "output_type": "execute_result",
          "data": {
            "text/plain": [
              "array([[ 1.54925248],\n",
              "       [ 0.0607038 ],\n",
              "       [-0.42348049]])"
            ]
          },
          "metadata": {},
          "execution_count": 27
        }
      ]
    },
    {
      "cell_type": "code",
      "source": [
        "# Applying the method \"think\" with a new set of 3 inputs, we get the estimated output. (The excpected result would be = 1, since the output in the training set is always = to the first element in the 3d array of inputs)\n",
        "network.think(array([1,0,0]))"
      ],
      "metadata": {
        "colab": {
          "base_uri": "https://localhost:8080/"
        },
        "id": "Af08-bfUoWyj",
        "outputId": "2ad33358-2038-460f-c425-12df2cbdc311"
      },
      "execution_count": null,
      "outputs": [
        {
          "output_type": "execute_result",
          "data": {
            "text/plain": [
              "array([0.82480574])"
            ]
          },
          "metadata": {},
          "execution_count": 183
        }
      ]
    },
    {
      "cell_type": "markdown",
      "source": [
        "Understanding how figures change along the training process:\n",
        "\n",
        "The operations the neuron performs in each repetition are:"
      ],
      "metadata": {
        "id": "CrNBp0bIUr-w"
      }
    },
    {
      "cell_type": "code",
      "source": [
        "# The weights of the neuron are defined randonmly:\n",
        "random.seed(1) \n",
        "weights1 = 2*random.random((3,1))-1\n",
        "print(\"Initial weights: \\n{}\".format(weights1))\n",
        "\n",
        "#The training set is:\n",
        "inputs1= array([[1,1,1], [1,0,1], [0,1,1]])\n",
        "\n",
        "outputs1= array ([[1,1,0]])\n",
        "\n",
        "#TAKE THE INPUTS & OUTPUTS AND TRAIN A NUM OF TIMES\n",
        "\n",
        "for i in range(10):\n",
        "  print(\"\\nIteration nº {}\".format(i+1))\n",
        "\n",
        "  #Calculate the output as the normalized weighted sum product of the inputs and weights\n",
        "\n",
        "  output1= 1/(1+exp(-dot(inputs1,weights1)))\n",
        "  print(\"\\nEstimated output: \\n{}\".format(output1))\n",
        "\n",
        "  #Calculate the error\n",
        "  error1 = outputs1.T-output1\n",
        "  print(\"\\nError (diff between estimated output & outputs from training set): \\n{}\".format(error1))\n",
        "\n",
        "  #Get the adjustment\n",
        "  adjustment1 = dot (inputs1.T, error1*output1*(1-output1))\n",
        "  print(\"\\nAdjustment: \\n{}\".format(adjustment1))\n",
        "\n",
        "  #Improve weights values\n",
        "  weights1 += adjustment1\n",
        "  print(\"\\nAdjusted weights: \\n{} \".format(weights1))\n",
        "\n",
        "print(\"Weights in the last rep match the neuron weights after training 10 times with the same set\")"
      ],
      "metadata": {
        "id": "KBhAMrKrw0_S",
        "colab": {
          "base_uri": "https://localhost:8080/"
        },
        "outputId": "b3ce9c40-9f71-4152-bb97-4ab0797735f7"
      },
      "execution_count": 44,
      "outputs": [
        {
          "output_type": "stream",
          "name": "stdout",
          "text": [
            "Initial weights: \n",
            "[[-0.16595599]\n",
            " [ 0.44064899]\n",
            " [-0.99977125]]\n",
            "\n",
            "Iteration nº 1\n",
            "\n",
            "Estimated output: \n",
            "[[0.3262757 ]\n",
            " [0.23762817]\n",
            " [0.36375058]]\n",
            "\n",
            "Error (diff between estimated output & outputs from training set): \n",
            "[[ 0.6737243 ]\n",
            " [ 0.76237183]\n",
            " [-0.36375058]]\n",
            "\n",
            "Adjustment: \n",
            "[[0.28621005]\n",
            " [0.06391297]\n",
            " [0.20202504]]\n",
            "\n",
            "Adjusted weights: \n",
            "[[ 0.12025406]\n",
            " [ 0.50456196]\n",
            " [-0.79774622]] \n",
            "\n",
            "Iteration nº 2\n",
            "\n",
            "Estimated output: \n",
            "[[0.45687487]\n",
            " [0.33682126]\n",
            " [0.42722449]]\n",
            "\n",
            "Error (diff between estimated output & outputs from training set): \n",
            "[[ 0.54312513]\n",
            " [ 0.66317874]\n",
            " [-0.42722449]]\n",
            "\n",
            "Adjustment: \n",
            "[[0.28290722]\n",
            " [0.03022777]\n",
            " [0.17836379]]\n",
            "\n",
            "Adjusted weights: \n",
            "[[ 0.40316127]\n",
            " [ 0.53478973]\n",
            " [-0.61938242]] \n",
            "\n",
            "Iteration nº 3\n",
            "\n",
            "Estimated output: \n",
            "[[0.57897536]\n",
            " [0.44615433]\n",
            " [0.47886443]]\n",
            "\n",
            "Error (diff between estimated output & outputs from training set): \n",
            "[[ 0.42102464]\n",
            " [ 0.55384567]\n",
            " [-0.47886443]]\n",
            "\n",
            "Adjustment: \n",
            "[[ 0.2394858 ]\n",
            " [-0.01687201]\n",
            " [ 0.11998361]]\n",
            "\n",
            "Adjusted weights: \n",
            "[[ 0.64264708]\n",
            " [ 0.51791772]\n",
            " [-0.49939881]] \n",
            "\n",
            "Iteration nº 4\n",
            "\n",
            "Estimated output: \n",
            "[[0.65952226]\n",
            " [0.53575095]\n",
            " [0.50462959]]\n",
            "\n",
            "Error (diff between estimated output & outputs from training set): \n",
            "[[ 0.34047774]\n",
            " [ 0.46424905]\n",
            " [-0.50462959]]\n",
            "\n",
            "Adjustment: \n",
            "[[ 0.19192407]\n",
            " [-0.04969141]\n",
            " [ 0.06577749]]\n",
            "\n",
            "Adjusted weights: \n",
            "[[ 0.83457115]\n",
            " [ 0.46822631]\n",
            " [-0.43362133]] \n",
            "\n",
            "Iteration nº 5\n",
            "\n",
            "Estimated output: \n",
            "[[0.70457424]\n",
            " [0.59891584]\n",
            " [0.50865038]]\n",
            "\n",
            "Error (diff between estimated output & outputs from training set): \n",
            "[[ 0.29542576]\n",
            " [ 0.40108416]\n",
            " [-0.50865038]]\n",
            "\n",
            "Adjustment: \n",
            "[[ 0.15783938]\n",
            " [-0.06563185]\n",
            " [ 0.03071485]]\n",
            "\n",
            "Adjusted weights: \n",
            "[[ 0.99241053]\n",
            " [ 0.40259447]\n",
            " [-0.40290648]] \n",
            "\n",
            "Iteration nº 6\n",
            "\n",
            "Estimated output: \n",
            "[[0.72950222]\n",
            " [0.64325134]\n",
            " [0.499922  ]]\n",
            "\n",
            "Error (diff between estimated output & outputs from training set): \n",
            "[[ 0.27049778]\n",
            " [ 0.35674866]\n",
            " [-0.499922  ]]\n",
            "\n",
            "Adjustment: \n",
            "[[ 0.13524333]\n",
            " [-0.07160351]\n",
            " [ 0.01026283]]\n",
            "\n",
            "Adjusted weights: \n",
            "[[ 1.12765386]\n",
            " [ 0.33099096]\n",
            " [-0.39264365]] \n",
            "\n",
            "Iteration nº 7\n",
            "\n",
            "Estimated output: \n",
            "[[0.7438357 ]\n",
            " [0.67590376]\n",
            " [0.48459171]]\n",
            "\n",
            "Error (diff between estimated output & outputs from training set): \n",
            "[[ 0.2561643 ]\n",
            " [ 0.32409624]\n",
            " [-0.48459171]]\n",
            "\n",
            "Adjustment: \n",
            "[[ 0.11980644]\n",
            " [-0.07222227]\n",
            " [-0.00122644]]\n",
            "\n",
            "Adjusted weights: \n",
            "[[ 1.24746029]\n",
            " [ 0.25876869]\n",
            " [-0.39387009]] \n",
            "\n",
            "Iteration nº 8\n",
            "\n",
            "Estimated output: \n",
            "[[0.75256862]\n",
            " [0.70131973]\n",
            " [0.46627593]]\n",
            "\n",
            "Error (diff between estimated output & outputs from training set): \n",
            "[[ 0.24743138]\n",
            " [ 0.29868027]\n",
            " [-0.46627593]]\n",
            "\n",
            "Adjustment: \n",
            "[[ 0.10863864]\n",
            " [-0.06996471]\n",
            " [-0.00740004]]\n",
            "\n",
            "Adjusted weights: \n",
            "[[ 1.35609893]\n",
            " [ 0.18880398]\n",
            " [-0.40127013]] \n",
            "\n",
            "Iteration nº 9\n",
            "\n",
            "Estimated output: \n",
            "[[0.758346  ]\n",
            " [0.72208525]\n",
            " [0.44708238]]\n",
            "\n",
            "Error (diff between estimated output & outputs from training set): \n",
            "[[ 0.241654  ]\n",
            " [ 0.27791475]\n",
            " [-0.44708238]]\n",
            "\n",
            "Adjustment: \n",
            "[[ 0.10005629]\n",
            " [-0.06623377]\n",
            " [-0.01046236]]\n",
            "\n",
            "Adjusted weights: \n",
            "[[ 1.45615522]\n",
            " [ 0.12257021]\n",
            " [-0.41173248]] \n",
            "\n",
            "Iteration nº 10\n",
            "\n",
            "Estimated output: \n",
            "[[0.76260105]\n",
            " [0.73970247]\n",
            " [0.42820897]]\n",
            "\n",
            "Error (diff between estimated output & outputs from training set): \n",
            "[[ 0.23739895]\n",
            " [ 0.26029753]\n",
            " [-0.42820897]]\n",
            "\n",
            "Adjustment: \n",
            "[[ 0.09309727]\n",
            " [-0.0618664 ]\n",
            " [-0.01174801]]\n",
            "\n",
            "Adjusted weights: \n",
            "[[ 1.54925248]\n",
            " [ 0.0607038 ]\n",
            " [-0.42348049]] \n",
            "Weights in the last rep match the neuron weights after training 10 times with the same set\n"
          ]
        }
      ]
    },
    {
      "cell_type": "markdown",
      "source": [
        "## **DECONSTRUCTION ♈**\n",
        "\n",
        "The idea is to emulate the first training rep, as the process performed is the same each time.\n",
        "\n",
        "The values stored in each of the arrays match the ones from Iteration 1 above."
      ],
      "metadata": {
        "id": "B7qCeJaIrJSn"
      }
    },
    {
      "cell_type": "code",
      "source": [
        "# ASSIGN RANDOM WEIGHTS from 0 to 1 as the initial weights (see that values match the neuron's weights)\n",
        "\n",
        "random.seed(1) #single neuron with 3 inputs and 1 output, and assign random weight\n",
        "weights1 = 2*random.random((3,1))-1\n",
        "weights1"
      ],
      "metadata": {
        "colab": {
          "base_uri": "https://localhost:8080/"
        },
        "id": "ww2Lfbl0rI_m",
        "outputId": "16f572c0-dddd-4890-8c2b-6483a04876a3"
      },
      "execution_count": 45,
      "outputs": [
        {
          "output_type": "execute_result",
          "data": {
            "text/plain": [
              "array([[-0.16595599],\n",
              "       [ 0.44064899],\n",
              "       [-0.99977125]])"
            ]
          },
          "metadata": {},
          "execution_count": 45
        }
      ]
    },
    {
      "cell_type": "code",
      "source": [
        "#Define the training set:\n",
        "\n",
        "inputs1= array([[1,1,1], [1,0,1], [0,1,1]])\n",
        "\n",
        "outputs1= array ([[1,1,0]])"
      ],
      "metadata": {
        "id": "jmVVTiQ40ddx"
      },
      "execution_count": 46,
      "outputs": []
    },
    {
      "cell_type": "code",
      "source": [
        "# Calculate x, as the sum product of the matrices INPUTS X WEIGHTS []\n",
        "x= dot(inputs, weights)\n",
        "x"
      ],
      "metadata": {
        "colab": {
          "base_uri": "https://localhost:8080/"
        },
        "id": "XOJ9Lm1-b2rT",
        "outputId": "2399b9e4-415f-4a3d-c3fc-22546c5c63e4"
      },
      "execution_count": 47,
      "outputs": [
        {
          "output_type": "execute_result",
          "data": {
            "text/plain": [
              "array([[-0.72507825],\n",
              "       [-1.16572724],\n",
              "       [-0.55912226]])"
            ]
          },
          "metadata": {},
          "execution_count": 47
        }
      ]
    },
    {
      "cell_type": "code",
      "source": [
        "# Use sigmoid to normalize the weighted sum:\n",
        "result1 = 1/(1+exp(-x))\n",
        "result1"
      ],
      "metadata": {
        "colab": {
          "base_uri": "https://localhost:8080/"
        },
        "id": "CO0whtcMsZ-3",
        "outputId": "2f679cf9-36b3-4cad-d113-7ae0ad506810"
      },
      "execution_count": 48,
      "outputs": [
        {
          "output_type": "execute_result",
          "data": {
            "text/plain": [
              "array([[0.3262757 ],\n",
              "       [0.23762817],\n",
              "       [0.36375058]])"
            ]
          },
          "metadata": {},
          "execution_count": 48
        }
      ]
    },
    {
      "cell_type": "code",
      "source": [
        "#Transpose the outputs to calculate the error\n",
        "outputs1.T"
      ],
      "metadata": {
        "colab": {
          "base_uri": "https://localhost:8080/"
        },
        "id": "geTGadIzCowc",
        "outputId": "183af870-74d3-4f9a-f97d-d18fdd10b83a"
      },
      "execution_count": 49,
      "outputs": [
        {
          "output_type": "execute_result",
          "data": {
            "text/plain": [
              "array([[1],\n",
              "       [1],\n",
              "       [0]])"
            ]
          },
          "metadata": {},
          "execution_count": 49
        }
      ]
    },
    {
      "cell_type": "code",
      "source": [
        "#Calculate the error:\n",
        "error1=outputs1.T-result1\n",
        "error1"
      ],
      "metadata": {
        "colab": {
          "base_uri": "https://localhost:8080/"
        },
        "id": "RSLh5TviAqY5",
        "outputId": "340ee25f-7c11-4d52-f981-4037cc97bed0"
      },
      "execution_count": 50,
      "outputs": [
        {
          "output_type": "execute_result",
          "data": {
            "text/plain": [
              "array([[ 0.6737243 ],\n",
              "       [ 0.76237183],\n",
              "       [-0.36375058]])"
            ]
          },
          "metadata": {},
          "execution_count": 50
        }
      ]
    },
    {
      "cell_type": "code",
      "source": [
        "# Get the values to be multiplied by the inputs to get the adjustments\n",
        "error1*result1*(1-result1)"
      ],
      "metadata": {
        "colab": {
          "base_uri": "https://localhost:8080/"
        },
        "id": "yyVVm0rsDDn1",
        "outputId": "f14acc16-6cf5-46bb-9962-a643d78d83a0"
      },
      "execution_count": 51,
      "outputs": [
        {
          "output_type": "execute_result",
          "data": {
            "text/plain": [
              "array([[ 0.14809799],\n",
              "       [ 0.13811206],\n",
              "       [-0.08418501]])"
            ]
          },
          "metadata": {},
          "execution_count": 51
        }
      ]
    },
    {
      "cell_type": "code",
      "source": [
        "#Transpose the inputs \n",
        "inputs1.T"
      ],
      "metadata": {
        "colab": {
          "base_uri": "https://localhost:8080/"
        },
        "id": "1AMJSxEdBTTt",
        "outputId": "03f0dba2-d595-4eed-cfa8-9dea066f86b5"
      },
      "execution_count": 52,
      "outputs": [
        {
          "output_type": "execute_result",
          "data": {
            "text/plain": [
              "array([[1, 1, 0],\n",
              "       [1, 0, 1],\n",
              "       [1, 1, 1]])"
            ]
          },
          "metadata": {},
          "execution_count": 52
        }
      ]
    },
    {
      "cell_type": "code",
      "source": [
        "# Get the adjustments\n",
        "adjustment1 = dot(inputs.T, error1*result1*(1-result1))\n",
        "adjustment1"
      ],
      "metadata": {
        "colab": {
          "base_uri": "https://localhost:8080/"
        },
        "id": "oyCupHhIDaaJ",
        "outputId": "fda609fb-8a2b-4906-b971-33d5bd0ff5cc"
      },
      "execution_count": 53,
      "outputs": [
        {
          "output_type": "execute_result",
          "data": {
            "text/plain": [
              "array([[0.28621005],\n",
              "       [0.06391297],\n",
              "       [0.20202504]])"
            ]
          },
          "metadata": {},
          "execution_count": 53
        }
      ]
    },
    {
      "cell_type": "code",
      "source": [
        "weights1+= adjustment1\n",
        "weights1 "
      ],
      "metadata": {
        "colab": {
          "base_uri": "https://localhost:8080/"
        },
        "id": "dcZyzQEeCzrE",
        "outputId": "25cb9a9d-5987-4bd0-e8f6-8867cc9cf1a8"
      },
      "execution_count": 54,
      "outputs": [
        {
          "output_type": "execute_result",
          "data": {
            "text/plain": [
              "array([[ 0.12025406],\n",
              "       [ 0.50456196],\n",
              "       [-0.79774622]])"
            ]
          },
          "metadata": {},
          "execution_count": 54
        }
      ]
    },
    {
      "cell_type": "markdown",
      "source": [
        "Finally, when trained a higher number of times, it approaches the expected result of 1 quite accurately"
      ],
      "metadata": {
        "id": "0Xj9MthzbUJb"
      }
    },
    {
      "cell_type": "code",
      "source": [
        "\n",
        "inputs= array([[1,1,1], [1,0,1], [0,1,1]])\n",
        "\n",
        "outputs= array ([[1,1,0]])\n",
        "\n",
        "network.train(inputs, outputs, 1000000)\n",
        "\n",
        "network.think(array([1,0,0]))"
      ],
      "metadata": {
        "id": "eKha6mqv1B0Z",
        "colab": {
          "base_uri": "https://localhost:8080/"
        },
        "outputId": "68d09819-6839-4d95-f4f6-09b333adab13"
      },
      "execution_count": 58,
      "outputs": [
        {
          "output_type": "execute_result",
          "data": {
            "text/plain": [
              "array([0.99999888])"
            ]
          },
          "metadata": {},
          "execution_count": 58
        }
      ]
    },
    {
      "cell_type": "code",
      "source": [
        ""
      ],
      "metadata": {
        "id": "00M75ulWb74i"
      },
      "execution_count": null,
      "outputs": []
    }
  ]
}