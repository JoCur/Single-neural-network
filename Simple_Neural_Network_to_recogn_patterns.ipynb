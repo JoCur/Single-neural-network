{
  "nbformat": 4,
  "nbformat_minor": 0,
  "metadata": {
    "colab": {
      "name": "Simple Neural Network to recogn patterns.ipynb",
      "provenance": [],
      "authorship_tag": "ABX9TyPkhqGAbwTnuI6GnyFJZaty",
      "include_colab_link": true
    },
    "kernelspec": {
      "name": "python3",
      "display_name": "Python 3"
    },
    "language_info": {
      "name": "python"
    }
  },
  "cells": [
    {
      "cell_type": "markdown",
      "metadata": {
        "id": "view-in-github",
        "colab_type": "text"
      },
      "source": [
        "<a href=\"https://colab.research.google.com/github/JoCur/Single-neural-network/blob/Clean-code/Simple_Neural_Network_to_recogn_patterns.ipynb\" target=\"_parent\"><img src=\"https://colab.research.google.com/assets/colab-badge.svg\" alt=\"Open In Colab\"/></a>"
      ]
    },
    {
      "cell_type": "markdown",
      "source": [
        "\n",
        "Intro to Class = Object (EXAMPLE)"
      ],
      "metadata": {
        "id": "4K6bQZgPqEwl"
      }
    },
    {
      "cell_type": "code",
      "metadata": {
        "id": "8bioNEewsLOX"
      },
      "source": [
        "#Class attribute (belongs to the class)-> We create a class = Snake and assign a name to it.\n",
        "\n",
        "class Snake:\n",
        "  name=\"python\""
      ],
      "execution_count": null,
      "outputs": []
    },
    {
      "cell_type": "code",
      "metadata": {
        "id": "cUFCg_6N4s6J"
      },
      "source": [
        "snake = Snake()\n"
      ],
      "execution_count": null,
      "outputs": []
    },
    {
      "cell_type": "code",
      "metadata": {
        "colab": {
          "base_uri": "https://localhost:8080/"
        },
        "id": "CYcBFnXF4w58",
        "outputId": "2724baba-424b-4f6e-fcce-f3b41c181569"
      },
      "source": [
        "print(snake.name)"
      ],
      "execution_count": null,
      "outputs": [
        {
          "output_type": "stream",
          "name": "stdout",
          "text": [
            "python\n"
          ]
        }
      ]
    },
    {
      "cell_type": "code",
      "metadata": {
        "id": "jKIrwwsf4ysb"
      },
      "source": [
        "#class method -> it allows to access the attribute and change it (in this case, the name)\n",
        "\n",
        "class Snake:\n",
        "  name = \"python\"\n",
        "\n",
        "  def change_name (self, new_name):\n",
        "    self.name= new_name # access the class attribute with the self keyword\n"
      ],
      "execution_count": null,
      "outputs": []
    },
    {
      "cell_type": "code",
      "metadata": {
        "colab": {
          "base_uri": "https://localhost:8080/"
        },
        "id": "CjwLczQW7Vj4",
        "outputId": "609700e0-def5-4665-da1c-a1d04d44cd1a"
      },
      "source": [
        "snake = Snake()\n",
        "snake.change_name(\"anaconda\")\n",
        "print(snake.name)"
      ],
      "execution_count": null,
      "outputs": [
        {
          "output_type": "stream",
          "name": "stdout",
          "text": [
            "anaconda\n"
          ]
        }
      ]
    },
    {
      "cell_type": "markdown",
      "metadata": {
        "id": "bXCFW_Ci7nWc"
      },
      "source": [
        "Instance attributes in python and the init method\n",
        "\n",
        "You can also provide the values for the attributes at runtime. This is done by defining the attributes inside the init method. The following example illustrates this."
      ]
    },
    {
      "cell_type": "code",
      "metadata": {
        "id": "DLSxu0aD7nz7"
      },
      "source": [
        "class Snake:\n",
        "\n",
        "    def __init__(self, name):\n",
        "        self.name = name\n",
        "\n",
        "    def change_name(self, new_name):\n",
        "        self.name = new_name"
      ],
      "execution_count": null,
      "outputs": []
    },
    {
      "cell_type": "code",
      "metadata": {
        "colab": {
          "base_uri": "https://localhost:8080/"
        },
        "id": "w7z8nrvk7z1I",
        "outputId": "f670a2f7-2912-4c5f-aed8-d6d78d354aef"
      },
      "source": [
        "python = Snake(\"python\")\n",
        "\n",
        "print(python.name)"
      ],
      "execution_count": null,
      "outputs": [
        {
          "output_type": "stream",
          "name": "stdout",
          "text": [
            "python\n"
          ]
        }
      ]
    },
    {
      "cell_type": "code",
      "source": [
        "python.change_name(\"violet\")\n",
        "python.name"
      ],
      "metadata": {
        "colab": {
          "base_uri": "https://localhost:8080/",
          "height": 34
        },
        "id": "n5uVdnp9kBek",
        "outputId": "5eee210f-f76e-4e61-dd4d-6b4418a80d2e"
      },
      "execution_count": null,
      "outputs": [
        {
          "output_type": "execute_result",
          "data": {
            "application/vnd.google.colaboratory.intrinsic+json": {
              "type": "string"
            },
            "text/plain": [
              "'violet'"
            ]
          },
          "metadata": {},
          "execution_count": 62
        }
      ]
    },
    {
      "cell_type": "markdown",
      "source": [
        "# **Modelling one single neuron**:\n",
        "3 inputs\n",
        "1 output\n",
        "random weight \n"
      ],
      "metadata": {
        "id": "kCr6w20kqSGC"
      }
    },
    {
      "cell_type": "code",
      "metadata": {
        "id": "TUhEZuLJ8vKq"
      },
      "source": [
        "from numpy import exp, array, random,dot\n"
      ],
      "execution_count": null,
      "outputs": []
    },
    {
      "cell_type": "code",
      "metadata": {
        "id": "iW_Nu_sa8YxE"
      },
      "source": [
        "class neural_network:\n",
        "  def __init__(self):\n",
        "    random.seed(1) #single neuron with 3 inputs and 1 output, and assign random weight\n",
        "    self.weights = 2*random.random((3,1))-1\n",
        "\n",
        "  def __sigmoid (self,x):\n",
        "    return 1/(1+exp(-x))\n",
        "\n",
        "  def think (self, inputs):\n",
        "    result=self.__sigmoid(dot(inputs, self.weights))\n",
        "    return result\n",
        "\n",
        "  def train (self, inputs, outputs, num):\n",
        "    for iteration in range (num):\n",
        "      output = self.think(inputs)\n",
        "      error= outputs.T -output\n",
        "      adjustment = dot (inputs.T, error*output*(1-output))\n",
        "      self.weights += adjustment"
      ],
      "execution_count": null,
      "outputs": []
    },
    {
      "cell_type": "code",
      "source": [
        "network= neural_network()"
      ],
      "metadata": {
        "id": "pvFk_o17nniZ"
      },
      "execution_count": null,
      "outputs": []
    },
    {
      "cell_type": "code",
      "source": [
        "network.weights"
      ],
      "metadata": {
        "colab": {
          "base_uri": "https://localhost:8080/"
        },
        "id": "Khl4CMhTocA1",
        "outputId": "0a6d6e48-56b2-4342-94d8-1269eb08e8e6"
      },
      "execution_count": null,
      "outputs": [
        {
          "output_type": "execute_result",
          "data": {
            "text/plain": [
              "array([[-0.16595599],\n",
              "       [ 0.44064899],\n",
              "       [-0.99977125]])"
            ]
          },
          "metadata": {},
          "execution_count": 188
        }
      ]
    },
    {
      "cell_type": "code",
      "source": [
        "#training set:\n",
        "inputs= array([[1,1,1], [1,0,1], [0,1,1]])\n",
        "\n",
        "outputs= array ([[1,1,0]])"
      ],
      "metadata": {
        "id": "CZVwkFV3nuav"
      },
      "execution_count": null,
      "outputs": []
    },
    {
      "cell_type": "code",
      "source": [
        "network.train(inputs, outputs, 10)"
      ],
      "metadata": {
        "id": "dKKjbNVcoOBh"
      },
      "execution_count": null,
      "outputs": []
    },
    {
      "cell_type": "code",
      "source": [
        "network.weights"
      ],
      "metadata": {
        "colab": {
          "base_uri": "https://localhost:8080/"
        },
        "id": "ZnpHpRC-q9Yz",
        "outputId": "9be5b802-47a5-4c84-feaa-0c9bae2bb401"
      },
      "execution_count": null,
      "outputs": [
        {
          "output_type": "execute_result",
          "data": {
            "text/plain": [
              "array([[ 1.54925248],\n",
              "       [ 0.0607038 ],\n",
              "       [-0.42348049]])"
            ]
          },
          "metadata": {},
          "execution_count": 182
        }
      ]
    },
    {
      "cell_type": "code",
      "source": [
        "network.think(array([1,0,0]))"
      ],
      "metadata": {
        "colab": {
          "base_uri": "https://localhost:8080/"
        },
        "id": "Af08-bfUoWyj",
        "outputId": "2ad33358-2038-460f-c425-12df2cbdc311"
      },
      "execution_count": null,
      "outputs": [
        {
          "output_type": "execute_result",
          "data": {
            "text/plain": [
              "array([0.82480574])"
            ]
          },
          "metadata": {},
          "execution_count": 183
        }
      ]
    },
    {
      "cell_type": "markdown",
      "source": [
        "## **DECONSTRUCTION ♈**"
      ],
      "metadata": {
        "id": "B7qCeJaIrJSn"
      }
    },
    {
      "cell_type": "code",
      "source": [
        "#ASSIGN RANDOM WEIGHTS from 0 to 1 as the initial weights\n",
        "\n",
        "random.seed(1) #single neuron with 3 inputs and 1 output, and assign random weight\n",
        "weights = 2*random.random((3,1))-1\n",
        "weights"
      ],
      "metadata": {
        "colab": {
          "base_uri": "https://localhost:8080/"
        },
        "id": "ww2Lfbl0rI_m",
        "outputId": "cd615057-efc6-44fe-bda9-64c2ffd653db"
      },
      "execution_count": null,
      "outputs": [
        {
          "output_type": "execute_result",
          "data": {
            "text/plain": [
              "array([[-0.16595599],\n",
              "       [ 0.44064899],\n",
              "       [-0.99977125]])"
            ]
          },
          "metadata": {},
          "execution_count": 184
        }
      ]
    },
    {
      "cell_type": "code",
      "source": [
        "\n",
        "\n",
        "#training set:\n",
        "inputs1= array([[1,1,1], [1,0,1], [0,1,1]])\n",
        "\n",
        "outputs1= array ([[1,1,0]])"
      ],
      "metadata": {
        "id": "jmVVTiQ40ddx"
      },
      "execution_count": null,
      "outputs": []
    },
    {
      "cell_type": "code",
      "source": [
        "#USE THE DOT METHOD TO CALCULATE THE DOT PRODUCT OF MATRICES: INPUTS X WEIGHTS\n",
        "x= dot(inputs, weights)\n",
        "x"
      ],
      "metadata": {
        "colab": {
          "base_uri": "https://localhost:8080/"
        },
        "id": "XOJ9Lm1-b2rT",
        "outputId": "cd15ddfe-454f-4a19-ff20-65699e1e10c7"
      },
      "execution_count": null,
      "outputs": [
        {
          "output_type": "execute_result",
          "data": {
            "text/plain": [
              "array([[-0.72507825],\n",
              "       [-1.16572724],\n",
              "       [-0.55912226]])"
            ]
          },
          "metadata": {},
          "execution_count": 168
        }
      ]
    },
    {
      "cell_type": "code",
      "source": [
        "#USE SIGMOID AS A HELPER TO NORMALIZE THE WEIGHTED SUM\n",
        "result1 = 1/(1+exp(-x))\n",
        "result1"
      ],
      "metadata": {
        "colab": {
          "base_uri": "https://localhost:8080/"
        },
        "id": "CO0whtcMsZ-3",
        "outputId": "db99432b-f8d8-454c-a12b-78b610123914"
      },
      "execution_count": null,
      "outputs": [
        {
          "output_type": "execute_result",
          "data": {
            "text/plain": [
              "array([[0.3262757 ],\n",
              "       [0.23762817],\n",
              "       [0.36375058]])"
            ]
          },
          "metadata": {},
          "execution_count": 169
        }
      ]
    },
    {
      "cell_type": "code",
      "source": [
        "outputs1.T"
      ],
      "metadata": {
        "colab": {
          "base_uri": "https://localhost:8080/"
        },
        "id": "geTGadIzCowc",
        "outputId": "d1e4620c-8055-4d8f-e0ac-3cc90ea5a0bf"
      },
      "execution_count": null,
      "outputs": [
        {
          "output_type": "execute_result",
          "data": {
            "text/plain": [
              "array([[1],\n",
              "       [1],\n",
              "       [0]])"
            ]
          },
          "metadata": {},
          "execution_count": 170
        }
      ]
    },
    {
      "cell_type": "code",
      "source": [
        "error1=outputs1.T-result1\n",
        "error1"
      ],
      "metadata": {
        "colab": {
          "base_uri": "https://localhost:8080/"
        },
        "id": "RSLh5TviAqY5",
        "outputId": "5e747c0b-c1aa-44c7-c4e5-2ccca6bbb0fc"
      },
      "execution_count": null,
      "outputs": [
        {
          "output_type": "execute_result",
          "data": {
            "text/plain": [
              "array([[ 0.6737243 ],\n",
              "       [ 0.76237183],\n",
              "       [-0.36375058]])"
            ]
          },
          "metadata": {},
          "execution_count": 171
        }
      ]
    },
    {
      "cell_type": "code",
      "source": [
        "error1*result1*(1-result1)"
      ],
      "metadata": {
        "colab": {
          "base_uri": "https://localhost:8080/"
        },
        "id": "yyVVm0rsDDn1",
        "outputId": "19a91921-2c04-41cc-bef8-191c2ea407ef"
      },
      "execution_count": null,
      "outputs": [
        {
          "output_type": "execute_result",
          "data": {
            "text/plain": [
              "array([[ 0.14809799],\n",
              "       [ 0.13811206],\n",
              "       [-0.08418501]])"
            ]
          },
          "metadata": {},
          "execution_count": 172
        }
      ]
    },
    {
      "cell_type": "code",
      "source": [
        "inputs1.T"
      ],
      "metadata": {
        "colab": {
          "base_uri": "https://localhost:8080/"
        },
        "id": "1AMJSxEdBTTt",
        "outputId": "75765ad3-4d32-4fce-8e9f-5f26b5c23a25"
      },
      "execution_count": null,
      "outputs": [
        {
          "output_type": "execute_result",
          "data": {
            "text/plain": [
              "array([[1, 1, 0],\n",
              "       [1, 0, 1],\n",
              "       [1, 1, 1]])"
            ]
          },
          "metadata": {},
          "execution_count": 173
        }
      ]
    },
    {
      "cell_type": "code",
      "source": [
        "adjustment1 = dot(inputs.T, error1*result1*(1-result1))\n",
        "adjustment1"
      ],
      "metadata": {
        "colab": {
          "base_uri": "https://localhost:8080/"
        },
        "id": "oyCupHhIDaaJ",
        "outputId": "6b38667c-5f28-4cf2-fdbb-1bc3561b4b57"
      },
      "execution_count": null,
      "outputs": [
        {
          "output_type": "execute_result",
          "data": {
            "text/plain": [
              "array([[0.28621005],\n",
              "       [0.06391297],\n",
              "       [0.20202504]])"
            ]
          },
          "metadata": {},
          "execution_count": 174
        }
      ]
    },
    {
      "cell_type": "code",
      "source": [
        "weights+= adjustment1\n",
        "weights "
      ],
      "metadata": {
        "colab": {
          "base_uri": "https://localhost:8080/"
        },
        "id": "dcZyzQEeCzrE",
        "outputId": "deb6da6a-b516-4d5f-b686-f256413abb58"
      },
      "execution_count": null,
      "outputs": [
        {
          "output_type": "execute_result",
          "data": {
            "text/plain": [
              "array([[ 0.12025406],\n",
              "       [ 0.50456196],\n",
              "       [-0.79774622]])"
            ]
          },
          "metadata": {},
          "execution_count": 175
        }
      ]
    },
    {
      "cell_type": "code",
      "source": [
        "random.seed(1) #single neuron with 3 inputs and 1 output, and assign random weight\n",
        "weights1 = 2*random.random((3,1))-1\n",
        "print(weights1)\n",
        "\n",
        "#training set:\n",
        "inputs1= array([[1,1,1], [1,0,1], [0,1,1]])\n",
        "\n",
        "outputs1= array ([[1,1,0]])\n",
        "\n",
        "#TAKE THE INPUTS & OUTPUTS AND TRAIN A NUM OF TIMES\n",
        "for i in range(10):\n",
        "  print(i)\n",
        "  output1= 1/(1+exp(-dot(inputs1,weights1)))\n",
        "  print( output1)\n",
        "  error1 = outputs1.T-output1\n",
        "  print(error1)\n",
        "  adjustment1 = dot (inputs1.T, error1*output1*(1-output1))\n",
        "  print(adjustment1)\n",
        "  weights1 += adjustment1\n",
        "  print(weights1)\n",
        "\n"
      ],
      "metadata": {
        "id": "KBhAMrKrw0_S",
        "colab": {
          "base_uri": "https://localhost:8080/"
        },
        "outputId": "7c005974-e474-403e-b5f8-2da6a1e350dc"
      },
      "execution_count": null,
      "outputs": [
        {
          "output_type": "stream",
          "name": "stdout",
          "text": [
            "[[-0.16595599]\n",
            " [ 0.44064899]\n",
            " [-0.99977125]]\n",
            "0\n",
            "[[0.3262757 ]\n",
            " [0.23762817]\n",
            " [0.36375058]]\n",
            "[[ 0.6737243 ]\n",
            " [ 0.76237183]\n",
            " [-0.36375058]]\n",
            "[[0.28621005]\n",
            " [0.06391297]\n",
            " [0.20202504]]\n",
            "[[ 0.12025406]\n",
            " [ 0.50456196]\n",
            " [-0.79774622]]\n",
            "1\n",
            "[[0.45687487]\n",
            " [0.33682126]\n",
            " [0.42722449]]\n",
            "[[ 0.54312513]\n",
            " [ 0.66317874]\n",
            " [-0.42722449]]\n",
            "[[0.28290722]\n",
            " [0.03022777]\n",
            " [0.17836379]]\n",
            "[[ 0.40316127]\n",
            " [ 0.53478973]\n",
            " [-0.61938242]]\n",
            "2\n",
            "[[0.57897536]\n",
            " [0.44615433]\n",
            " [0.47886443]]\n",
            "[[ 0.42102464]\n",
            " [ 0.55384567]\n",
            " [-0.47886443]]\n",
            "[[ 0.2394858 ]\n",
            " [-0.01687201]\n",
            " [ 0.11998361]]\n",
            "[[ 0.64264708]\n",
            " [ 0.51791772]\n",
            " [-0.49939881]]\n",
            "3\n",
            "[[0.65952226]\n",
            " [0.53575095]\n",
            " [0.50462959]]\n",
            "[[ 0.34047774]\n",
            " [ 0.46424905]\n",
            " [-0.50462959]]\n",
            "[[ 0.19192407]\n",
            " [-0.04969141]\n",
            " [ 0.06577749]]\n",
            "[[ 0.83457115]\n",
            " [ 0.46822631]\n",
            " [-0.43362133]]\n",
            "4\n",
            "[[0.70457424]\n",
            " [0.59891584]\n",
            " [0.50865038]]\n",
            "[[ 0.29542576]\n",
            " [ 0.40108416]\n",
            " [-0.50865038]]\n",
            "[[ 0.15783938]\n",
            " [-0.06563185]\n",
            " [ 0.03071485]]\n",
            "[[ 0.99241053]\n",
            " [ 0.40259447]\n",
            " [-0.40290648]]\n",
            "5\n",
            "[[0.72950222]\n",
            " [0.64325134]\n",
            " [0.499922  ]]\n",
            "[[ 0.27049778]\n",
            " [ 0.35674866]\n",
            " [-0.499922  ]]\n",
            "[[ 0.13524333]\n",
            " [-0.07160351]\n",
            " [ 0.01026283]]\n",
            "[[ 1.12765386]\n",
            " [ 0.33099096]\n",
            " [-0.39264365]]\n",
            "6\n",
            "[[0.7438357 ]\n",
            " [0.67590376]\n",
            " [0.48459171]]\n",
            "[[ 0.2561643 ]\n",
            " [ 0.32409624]\n",
            " [-0.48459171]]\n",
            "[[ 0.11980644]\n",
            " [-0.07222227]\n",
            " [-0.00122644]]\n",
            "[[ 1.24746029]\n",
            " [ 0.25876869]\n",
            " [-0.39387009]]\n",
            "7\n",
            "[[0.75256862]\n",
            " [0.70131973]\n",
            " [0.46627593]]\n",
            "[[ 0.24743138]\n",
            " [ 0.29868027]\n",
            " [-0.46627593]]\n",
            "[[ 0.10863864]\n",
            " [-0.06996471]\n",
            " [-0.00740004]]\n",
            "[[ 1.35609893]\n",
            " [ 0.18880398]\n",
            " [-0.40127013]]\n",
            "8\n",
            "[[0.758346  ]\n",
            " [0.72208525]\n",
            " [0.44708238]]\n",
            "[[ 0.241654  ]\n",
            " [ 0.27791475]\n",
            " [-0.44708238]]\n",
            "[[ 0.10005629]\n",
            " [-0.06623377]\n",
            " [-0.01046236]]\n",
            "[[ 1.45615522]\n",
            " [ 0.12257021]\n",
            " [-0.41173248]]\n",
            "9\n",
            "[[0.76260105]\n",
            " [0.73970247]\n",
            " [0.42820897]]\n",
            "[[ 0.23739895]\n",
            " [ 0.26029753]\n",
            " [-0.42820897]]\n",
            "[[ 0.09309727]\n",
            " [-0.0618664 ]\n",
            " [-0.01174801]]\n",
            "[[ 1.54925248]\n",
            " [ 0.0607038 ]\n",
            " [-0.42348049]]\n"
          ]
        }
      ]
    },
    {
      "cell_type": "code",
      "source": [
        "weights1"
      ],
      "metadata": {
        "colab": {
          "base_uri": "https://localhost:8080/"
        },
        "id": "puxtwRxJK_gC",
        "outputId": "b68c382e-17a7-4b17-8d91-ecfbb43c2398"
      },
      "execution_count": null,
      "outputs": [
        {
          "output_type": "execute_result",
          "data": {
            "text/plain": [
              "array([[ 1.54925248],\n",
              "       [ 0.0607038 ],\n",
              "       [-0.42348049]])"
            ]
          },
          "metadata": {},
          "execution_count": 192
        }
      ]
    },
    {
      "cell_type": "code",
      "source": [
        "input2= array([1,0,0])\n",
        "result2=  1/(1+exp(-(dot(input2,weights1))))\n",
        "\n",
        "result2"
      ],
      "metadata": {
        "colab": {
          "base_uri": "https://localhost:8080/"
        },
        "id": "ddVOTrL1Ig9C",
        "outputId": "9c0e4c2c-46cd-44c4-a02c-aa524e901b6d"
      },
      "execution_count": null,
      "outputs": [
        {
          "output_type": "execute_result",
          "data": {
            "text/plain": [
              "array([0.82480574])"
            ]
          },
          "metadata": {},
          "execution_count": 193
        }
      ]
    },
    {
      "cell_type": "code",
      "source": [
        ""
      ],
      "metadata": {
        "id": "eKha6mqv1B0Z"
      },
      "execution_count": null,
      "outputs": []
    }
  ]
}